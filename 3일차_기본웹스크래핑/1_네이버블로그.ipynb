{
 "cells": [
  {
   "cell_type": "code",
   "execution_count": 1,
   "metadata": {},
   "outputs": [],
   "source": [
    "# 모듈 설치\n",
    "!pip install -qq beautifulsoup4"
   ]
  },
  {
   "cell_type": "code",
   "execution_count": 4,
   "metadata": {},
   "outputs": [],
   "source": [
    "# 1. 모듈 임포트\n",
    "import requests\n",
    "from bs4 import BeautifulSoup"
   ]
  },
  {
   "cell_type": "code",
   "execution_count": 8,
   "metadata": {},
   "outputs": [],
   "source": [
    "# 2. html 요소 얻기\n",
    "# 유의할 점 - m.으로 시작하는 모바일 주소로 변환\n",
    "blog_url = \"https://blog.naver.com/hyuni2mail/223397084072\"\n",
    "page= requests.get(blog_url)"
   ]
  },
  {
   "cell_type": "code",
   "execution_count": 9,
   "metadata": {},
   "outputs": [
    {
     "data": {
      "text/plain": [
       "<Response [200]>"
      ]
     },
     "execution_count": 9,
     "metadata": {},
     "output_type": "execute_result"
    }
   ],
   "source": [
    "page"
   ]
  },
  {
   "cell_type": "code",
   "execution_count": 10,
   "metadata": {},
   "outputs": [
    {
     "data": {
      "text/plain": [
       "\n",
       "<!DOCTYPE html PUBLIC \"-//W3C//DTD XHTML 1.0 Transitional//EN\" \"http://www.w3.org/TR/xhtml1/DTD/xhtml1-transitional.dtd\">\n",
       "\n",
       "<html lang=\"ko\">\n",
       "<head>\n",
       "<meta content=\"no-cache\" http-equiv=\"Pragma\"/>\n",
       "<meta content=\"-1\" http-equiv=\"Expires\"/>\n",
       "<meta content=\"noindex,follow\" name=\"robots\"/>\n",
       "<meta content=\"always\" name=\"referrer\"/>\n",
       "<meta content=\"text/html;charset=utf-8\" http-equiv=\"content-type\"/>\n",
       "<meta content=\"IE=edge,chrome=1\" http-equiv=\"X-UA-Compatible\"/>\n",
       "<link href=\"/favicon.ico?3\" rel=\"shortcut icon\" type=\"image/x-icon\"/>\n",
       "<link href=\"https://rss.blog.naver.com/hyuni2mail.xml\" rel=\"alternate\" title=\"RSS feed for hyuni2mail Blog\" type=\"application/rss+xml\"/>\n",
       "<link href=\"https://blog.naver.com/NBlogWlwLayout.naver?blogId=hyuni2mail\" rel=\"wlwmanifest\" type=\"application/wlwmanifest+xml\"/>\n",
       "<title>혀니의 리뷰톡톡 : 네이버 블로그</title>\n",
       "</head>\n",
       "<script charset=\"UTF-8\" src=\"https://ssl.pstatic.net/t.static.blog/mylog/versioning/Frameset-527057374_https.js\" type=\"text/javascript\"></script>\n",
       "<script charset=\"UTF-8\" type=\"text/javascript\">\n",
       "var photoContent=\"\";\n",
       "var postContent=\"\";\n",
       "\n",
       "var videoId \t  = \"\";\n",
       "var thumbnail \t  = \"\";\n",
       "var inKey \t\t  = \"\";\n",
       "var movieFileSize = \"\";\n",
       "var playTime \t  = \"\";\n",
       "var screenSize \t  = \"\";\n",
       "\n",
       "var blogId = 'hyuni2mail';\n",
       "var blogURL = 'https://blog.naver.com';\n",
       "var eventCnt = '';\n",
       "\n",
       "var g_ShareObject = {};\n",
       "g_ShareObject.referer = \"\";\n",
       "\n",
       "\n",
       "jsMVC.setController(\"framesetTitleController\", FramesetTitleController);\n",
       "jsMVC.setController(\"framesetUrlController\", FramesetUrlController);\n",
       "jsMVC.setController(\"framesetMusicController\", FramesetMusicController);\n",
       "var oFramesetTitleController = jsMVC.getController(\"framesetTitleController\");\n",
       "var oFramesetUrlController = jsMVC.getController(\"framesetUrlController\");\n",
       "var oFramesetMusicController = jsMVC.getController(\"framesetMusicController\");\n",
       "var sTitle = document.title;\n",
       "\n",
       "var topFrameAlert = function(message){\n",
       "\talert(message);\n",
       "};\n",
       "\n",
       "var topFrameConfirm = function(message){\n",
       "\tif(confirm(message)){\n",
       "\t\treturn true;\n",
       "\t} else {\n",
       "\t\treturn false;\n",
       "\t}\n",
       "};\n",
       "</script>\n",
       "<style type=\"text/css\">\n",
       "    html{width:100%;height:100%;}\n",
       "    body{width:100%;height:100%;margin:0;padding:0;font-size:0;}\n",
       "    #mainFrame{width:100%;height:100%;margin:0;padding:0;border:0;}\n",
       "    #hiddenFrame{width:0;height:0;margin:0;padding:0;border:0;}\n",
       "</style>\n",
       "<body>\n",
       "<iframe allowfullscreen=\"\" id=\"mainFrame\" name=\"mainFrame\" onload=\"oFramesetTitleController.start(self.frames['mainFrame'], self, sTitle);oFramesetTitleController.onLoadFrame();oFramesetUrlController.start(self.frames['mainFrame']);oFramesetUrlController.onLoadFrame()\" scrolling=\"auto\" src=\"/PostView.naver?blogId=hyuni2mail&amp;logNo=223397084072&amp;redirect=Dlog&amp;widgetTypeCall=true&amp;noTrackingCode=true&amp;directAccess=false\"></iframe>\n",
       "</body>\n",
       "</html>"
      ]
     },
     "execution_count": 10,
     "metadata": {},
     "output_type": "execute_result"
    }
   ],
   "source": [
    "# 3. BeatifulSoup 으로 파싱\n",
    "bs_result = BeautifulSoup(page.text, 'html.parser')\n",
    "bs_result"
   ]
  },
  {
   "cell_type": "code",
   "execution_count": 20,
   "metadata": {},
   "outputs": [
    {
     "data": {
      "text/plain": [
       "' [AI 인공지능 공부] 네이버 클로바X, '"
      ]
     },
     "execution_count": 20,
     "metadata": {},
     "output_type": "execute_result"
    }
   ],
   "source": [
    "# 4. 요소 추출\n",
    "result = bs_result.find_all(\"span\", class_=\"se-fs-\")"
   ]
  },
  {
   "cell_type": "code",
   "execution_count": 21,
   "metadata": {},
   "outputs": [
    {
     "data": {
      "text/plain": [
       "' [AI 인공지능 공부] 네이버 클로바X, 네이버 인공지능 언어 모델 CLOVA X 챗GPT만 써봤는데, 한국인한테 최적화 된 모델은 CLOVA X라고 하여서 네이버 인공지능모델은 CLOVA X도 가입했다. CLOVAX는 23년 8월 24일 공개되었다. 클로바X는 한국어를 잘하고 한국 문화와 역사에 대한 배경 지식이 많은 것이 장점이라고 한다. \\u200b 현재까지는 한국에 대한 구체적인 질문을 챗 GPT한테 물으면 어색한 답변이 나오는데, 클로바X의 답변은 정확한 편이라고 한다. 네이버 검색엔진과 연동되어 있으니 쌓인 데이터가 많아서 그런듯하다.  시작하기 버튼을 누르고 몇 개의 버튼만 클릭하면 클로바X를 사용할 수 있게 된다.  클로바X에 들어가면 다음과 같은 예시가 나온다. 클로바X에 질문 입력하기 맨날 내 유튜브 알고리즘에 뜨는게 초등생활, 교육 관련 채널이다. 클로바X에도 관련 질문을 던져보았다. \"초등학교에 입학하는 아이들이 준비해야 하는 생활습관은 무엇일까?\" 클로바X는 어떤 답변을 해줄까? 뻔한 답변이기는 하지만 유튜브나 인스타 릴스에서 봤던 내용들이 일목요연하게 정리되어 나와있었다. \\u200b 항상 영상의 소비자로 살 게 아니라 생산자로 살 생각을 한다면 아래와 같은 답변이 영상의 대본이 될 수도 있겠다. \\u200b\\u200b조선왕조실록 원본 번역하기  AI관련 책을 공부하다가 예시로 나와서 신기했던 내용인데, 조선왕조실록 원문을 클로바X에 넣으면 해석이 되어 나온다는 내용이었다. 이렇게 복잡한 한자를 해석할 수 있을까? 했는데 깔끔하게 내용을 뽑아내주었다.   이제 한자를 공부하면 전반적인 문해력을 향상시킬 수 있다는 장점이 있지만, 혹시 한자를 모르더라도 적절하게 툴을 이용하면 허들이 높던 지식에도 접근할 수 있게 되었다. 기술의 시대에는 기술을 사용하는 법을 배워야지 시간을 아끼면서 살 수 있다. 챗GPT와 함께 클로바X도 즐겨찾기에 저장해놓고 자주 사용할 듯하다.  \\u200b조선왕조실록 (history.go.kr)\\u200b'"
      ]
     },
     "execution_count": 21,
     "metadata": {},
     "output_type": "execute_result"
    }
   ],
   "source": [
    "blog_text = ''\n",
    "for temp in result:\n",
    "    blog_text += temp.text\n",
    "blog_text"
   ]
  },
  {
   "cell_type": "code",
   "execution_count": 9,
   "metadata": {},
   "outputs": [
    {
     "name": "stdout",
     "output_type": "stream",
     "text": [
      " [AI 인공지능 공부] 네이버 클로바X, 네이버 인공지능 언어 모델 CLOVA X 챗GPT만 써봤는데, 한국인한테 최적화 된 모델은 CLOVA X라고 하여서 네이버 인공지능모델은 CLOVA X도 가입했다. CLOVAX는 23년 8월 24일 공개되었다. 클로바X는 한국어를 잘하고 한국 문화와 역사에 대한 배경 지식이 많은 것이 장점이라고 한다.   현재까지는 한국에 대한 구체적인 질문을 챗 GPT한테 물으면 어색한 답변이 나오는데, 클로바X의 답변은 정확한 편이라고 한다. 네이버 검색엔진과 연동되어 있으니 쌓인 데이터가 많아서 그런듯하다.  시작하기 버튼을 누르고 몇 개의 버튼만 클릭하면 클로바X를 사용할 수 있게 된다.  클로바X에 들어가면 다음과 같은 예시가 나온다. 클로바X에 질문 입력하기 맨날 내 유튜브 알고리즘에 뜨는게 초등생활, 교육 관련 채널이다. 클로바X에도 관련 질문을 던져보았다. \"초등학교에 입학하는 아이들이 준비해야 하는 생활습관은 무엇일까?\" 클로바X는 어떤 답변을 해줄까? 뻔한 답변이기는 하지만 유튜브나 인스타 릴스에서 봤던 내용들이 일목요연하게 정리되어 나와있었다.   항상 영상의 소비자로 살 게 아니라 생산자로 살 생각을 한다면 아래와 같은 답변이 영상의 대본이 될 수도 있겠다.   조선왕조실록 원본 번역하기  AI관련 책을 공부하다가 예시로 나와서 신기했던 내용인데, 조선왕조실록 원문을 클로바X에 넣으면 해석이 되어 나온다는 내용이었다. 이렇게 복잡한 한자를 해석할 수 있을까? 했는데 깔끔하게 내용을 뽑아내주었다.   이제 한자를 공부하면 전반적인 문해력을 향상시킬 수 있다는 장점이 있지만, 혹시 한자를 모르더라도 적절하게 툴을 이용하면 허들이 높던 지식에도 접근할 수 있게 되었다. 기술의 시대에는 기술을 사용하는 법을 배워야지 시간을 아끼면서 살 수 있다. 챗GPT와 함께 클로바X도 즐겨찾기에 저장해놓고 자주 사용할 듯하다.   조선왕조실록 (history.go.kr) \n"
     ]
    }
   ],
   "source": [
    "# \\u200b 을 띄어쓰기로 변환\n",
    "blog_text_reuslt = blog_text.replace('\\u200b', ' ')\n",
    "print(blog_text_reuslt)"
   ]
  },
  {
   "cell_type": "code",
   "execution_count": null,
   "metadata": {},
   "outputs": [],
   "source": []
  },
  {
   "cell_type": "code",
   "execution_count": null,
   "metadata": {},
   "outputs": [],
   "source": []
  }
 ],
 "metadata": {
  "kernelspec": {
   "display_name": "sesac2024",
   "language": "python",
   "name": "python3"
  },
  "language_info": {
   "codemirror_mode": {
    "name": "ipython",
    "version": 3
   },
   "file_extension": ".py",
   "mimetype": "text/x-python",
   "name": "python",
   "nbconvert_exporter": "python",
   "pygments_lexer": "ipython3",
   "version": "3.12.2"
  }
 },
 "nbformat": 4,
 "nbformat_minor": 2
}
