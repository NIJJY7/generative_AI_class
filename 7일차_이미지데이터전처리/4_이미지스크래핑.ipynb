{
 "cells": [
  {
   "cell_type": "code",
   "execution_count": 19,
   "metadata": {},
   "outputs": [],
   "source": [
    "!pip install -qq selenium webdriver_manager"
   ]
  },
  {
   "cell_type": "code",
   "execution_count": 68,
   "metadata": {},
   "outputs": [],
   "source": [
    "# 1. 모듈 임포트\n",
    "import time\n",
    "from selenium import webdriver\n",
    "from selenium.webdriver.chrome.service import Service\n",
    "from webdriver_manager.chrome import ChromeDriverManager\n",
    "from selenium.webdriver.common.by import By\n",
    "from selenium.webdriver import Keys\n",
    "import requests\n",
    "\n",
    "# 폴더 관리를 위한 모듈(5번 항목)\n",
    "import os\n",
    "\n",
    "# 이미지 링크 주소 파싱을 위한 모듈(6번 항목)\n",
    "from urllib.parse import urlparse, unquote"
   ]
  },
  {
   "cell_type": "code",
   "execution_count": 69,
   "metadata": {},
   "outputs": [],
   "source": [
    "# 2. 드라이버 옵션 설정 및 브라우저 띄우기\n",
    "chrom_options = webdriver.ChromeOptions()\n",
    "chrom_options.add_experimental_option('detach', True)\n",
    "driver = webdriver.Chrome(service=Service(ChromeDriverManager().install()), \n",
    "                          options=chrom_options)\n",
    "time.sleep(1)"
   ]
  },
  {
   "cell_type": "code",
   "execution_count": 70,
   "metadata": {},
   "outputs": [],
   "source": [
    "# 3-1. 구글 이미지 검색 주소 이동\n",
    "url = \"https://www.google.com/imghp?hl=ko&tab=wi\"\n",
    "driver.get(url)\n",
    "time.sleep(2)"
   ]
  },
  {
   "cell_type": "code",
   "execution_count": 71,
   "metadata": {},
   "outputs": [],
   "source": [
    "# 3-2. 검색어 입력 및 검색\n",
    "img_name = \"오예스\"\n",
    "search_img = driver.find_element(By.CSS_SELECTOR, \"textarea.gLFyf\")\n",
    "search_img.send_keys(img_name)\n",
    "time.sleep(1)\n",
    "search_img.send_keys(Keys.ENTER)"
   ]
  },
  {
   "cell_type": "code",
   "execution_count": 73,
   "metadata": {},
   "outputs": [],
   "source": [
    "# 4-1. 처음 이미지 선택(선택해서 클릭한 이미지가 원본 이미지)\n",
    "first_img = driver.find_element(By.CSS_SELECTOR, \"#dimg_17\")\n",
    "first_img.click()\n",
    "time.sleep(1)"
   ]
  },
  {
   "cell_type": "code",
   "execution_count": 74,
   "metadata": {},
   "outputs": [
    {
     "name": "stdout",
     "output_type": "stream",
     "text": [
      "https://i.namu.wiki/i/MsPw7_U9Cm1sbwnrvpQHXyyMERvEljHG8M2q-LpksVuWgSBxFfqtp4j_HNB1nNtJ1GMzCPsQ2qKJuP6YXxSwiQ.webp\n"
     ]
    }
   ],
   "source": [
    "# 4-2. 원본 이미지 링크 확인\n",
    "target_img = driver.find_element(By.CSS_SELECTOR, \"img.sFlh5c.pT0Scc.iPVvYb\")\n",
    "target_img_link = target_img.get_attribute(\"src\")\n",
    "print(target_img_link)"
   ]
  },
  {
   "cell_type": "code",
   "execution_count": 75,
   "metadata": {},
   "outputs": [
    {
     "name": "stdout",
     "output_type": "stream",
     "text": [
      "'./오예스/' 폴더가 생성되었거나 이미 존재합니다.\n"
     ]
    }
   ],
   "source": [
    "# 5. 목표 사진 개수 설정 및 저장 폴더 설정\n",
    "target_count = 300\n",
    "save_dir = f\"./{img_name}/\"\n",
    "\n",
    "if not os.path.exists(save_dir):\n",
    "    os.makedirs(save_dir, exist_ok=True)\n",
    "\n",
    "print(f\"'{save_dir}' 폴더가 생성되었거나 이미 존재합니다.\")"
   ]
  },
  {
   "cell_type": "code",
   "execution_count": 76,
   "metadata": {},
   "outputs": [],
   "source": [
    "# 6-1. 다음 이미지 버튼 요소 추출 테스트\n",
    "next_div = driver.find_elements(By.CSS_SELECTOR, \"div.HJRshd\")\n",
    "# 처음 이미지 일때는 2개이며, 원하는 요소는 0번째 \n",
    "# 다음 이미지일 때는 버튼이 3개, 원하는 요소는 1번째 따라서 인덱스는 뒤에서 -2\n",
    "target_div = next_div[-2]"
   ]
  },
  {
   "cell_type": "code",
   "execution_count": 77,
   "metadata": {},
   "outputs": [
    {
     "name": "stdout",
     "output_type": "stream",
     "text": [
      "이전 이미지\n",
      "다음 이미지\n",
      "이 검색 결과에 관한 작업 더보기\n",
      "닫기\n"
     ]
    }
   ],
   "source": [
    "# 6-2. 버튼 테스트\n",
    "buttons = target_div.find_elements(By.TAG_NAME, \"button\")\n",
    "# 버튼 확인용\n",
    "for btn in buttons:\n",
    "    print(btn.get_attribute(\"aria-label\"))"
   ]
  },
  {
   "cell_type": "code",
   "execution_count": 78,
   "metadata": {},
   "outputs": [
    {
     "name": "stdout",
     "output_type": "stream",
     "text": [
      "이미지 링크입니다 https://i.namu.wiki/i/MsPw7_U9Cm1sbwnrvpQHXyyMERvEljHG8M2q-LpksVuWgSBxFfqtp4j_HNB1nNtJ1GMzCPsQ2qKJuP6YXxSwiQ.webp\n"
     ]
    }
   ],
   "source": [
    "# 6-3. 이미지 저장 링크 테스트\n",
    "target_img = driver.find_elements(By.CSS_SELECTOR, \"#Sva75c > div.A8mJGd.NDuZHe.OGftbe-N7Eqid-H9tDt > div.LrPjRb > div.AQyBn > div.tvh9oe.BIB1wf > c-wiz > div > div > div > div > div.v6bUne > div.p7sI2.PUxBg > a > img.sFlh5c.pT0Scc.iPVvYb\")\n",
    "for img in target_img:\n",
    "    print(\"이미지 링크입니다\", img.get_attribute(\"src\"))"
   ]
  },
  {
   "cell_type": "code",
   "execution_count": 79,
   "metadata": {},
   "outputs": [
    {
     "name": "stdout",
     "output_type": "stream",
     "text": [
      "이미지가 성공적으로 다운로드되었습니다: ./오예스/오예스_img.webp\n"
     ]
    }
   ],
   "source": [
    "# 6-4 이미지 저장 테스트 - 이미지 데이터를 GET 요청으로 가져오기\n",
    "target_img_link = target_img[-1].get_attribute(\"src\")\n",
    "response = requests.get(target_img_link)\n",
    "\n",
    "# 요청이 성공적인 경우, 이미지를 로컬 파일로 저장\n",
    "if response.status_code == 200:\n",
    "    # 이미지 확장자 확인 및 쿼리 파라미터 제거를 위한 작업\n",
    "    path = urlparse(target_img_link).path\n",
    "    decoded_path = unquote(path)\n",
    "    file_name = decoded_path.split(\"/\")[-1]\n",
    "    file_ext = file_name.split(\".\")[-1]\n",
    "    save_name = f\"{save_dir}{img_name}_img.{file_ext}\"\n",
    "    # 바이너리 쓰기 모드로 파일 열기\n",
    "    with open(save_name, 'wb') as file:\n",
    "        file.write(response.content)\n",
    "    print(f\"이미지가 성공적으로 다운로드되었습니다: {save_name}\")\n",
    "else:\n",
    "    print(\"이미지 다운로드 실패\")"
   ]
  },
  {
   "cell_type": "code",
   "execution_count": 80,
   "metadata": {},
   "outputs": [
    {
     "name": "stdout",
     "output_type": "stream",
     "text": [
      "https://img.danawa.com/prod_img/500000/098/117/img/10117098_1.jpg?_v=20191210163932\n",
      "이미지가 성공적으로 다운로드되었습니다: ./오예스/오예스_0.jpg\n",
      "https://i.namu.wiki/i/Cq3LVUqLTtiMvYMK7oujVJMdDAgtWFNGT-Clk7rF3-OjiGz2PDcFko4YiC4g_3p_9t0UJ1zWJWqU8MULECDStw.webp\n",
      "이미지가 성공적으로 다운로드되었습니다: ./오예스/오예스_1.webp\n",
      "https://contents.lotteon.com/itemimage/LO/10/00/03/56/21/_1/00/00/35/62/2/LO1000035621_1000035622_1.jpg/dims/resizef/720X720\n",
      "이미지가 성공적으로 다운로드되었습니다: ./오예스/오예스_2.720X720\n",
      "https://upload.wikimedia.org/wikipedia/commons/b/b4/%EC%98%A4%EC%98%88%EC%8A%A4_%EC%82%AC%EC%A7%84.jpg\n",
      "이미지가 성공적으로 다운로드되었습니다: ./오예스/오예스_3.jpg\n",
      "https://cdn.011st.com/11dims/resize/600x600/quality/75/11src/product/2168415783/B.jpg?340000000\n",
      "이미지가 성공적으로 다운로드되었습니다: ./오예스/오예스_4.jpg\n",
      "https://images.emarteveryday.co.kr/images/app/webapps/evd_web2/share/SKU/mall/77/81/8801019318177_1.jpg\n",
      "이미지가 성공적으로 다운로드되었습니다: ./오예스/오예스_5.jpg\n",
      "https://sitem.ssgcdn.com/60/78/06/item/0000009067860_i1_750.jpg\n",
      "이미지가 성공적으로 다운로드되었습니다: ./오예스/오예스_6.jpg\n",
      "https://static.megamart.com/product/image/1253/12537822/12537822_1_960.jpg\n",
      "이미지가 성공적으로 다운로드되었습니다: ./오예스/오예스_7.jpg\n",
      "https://i.namu.wiki/i/p-0Bdas4a0hPaAYEOEo9XjcTwO9nwoWc_dvL7z7CIebJUX-7Zmxz358-oBiP76FX0n6hD8QFf_J92gUJ4JUpjA.webp\n",
      "이미지가 성공적으로 다운로드되었습니다: ./오예스/오예스_8.webp\n",
      "https://haitaimall.co.kr/web/product/big/202106/124b5f49ccf161d614c60c5d3d8a3255.jpg\n",
      "이미지가 성공적으로 다운로드되었습니다: ./오예스/오예스_9.jpg\n",
      "https://cdn-pro-web-250-118.cdn-nhncommerce.com/marketh3_godomall_com/data/goods/20/02/08/1000000785/1000000785_detail_066.jpg\n",
      "이미지가 성공적으로 다운로드되었습니다: ./오예스/오예스_10.jpg\n",
      "https://img.danawa.com/prod_img/500000/478/613/img/27613478_1.jpg?_v=20230816174807\n",
      "이미지가 성공적으로 다운로드되었습니다: ./오예스/오예스_11.jpg\n",
      "https://cdn.011st.com/11dims/resize/600x600/quality/75/11src/product/5378105971/B.jpg?741000000\n",
      "이미지가 성공적으로 다운로드되었습니다: ./오예스/오예스_12.jpg\n",
      "https://qi-o.qoo10cdn.com/goods_image_big/6/0/5/4/8824996054_l.jpg\n",
      "이미지가 성공적으로 다운로드되었습니다: ./오예스/오예스_13.jpg\n",
      "https://pds.joongang.co.kr/news/component/htmlphoto_mmdata/202005/09/0c006d96-8954-4287-9523-b0e276846d87.jpg\n",
      "이미지가 성공적으로 다운로드되었습니다: ./오예스/오예스_14.jpg\n",
      "https://contents.lotteon.com/itemimage/20240301031744/LM/88/01/01/93/13/21/9_/00/1/LM8801019313219_001_1.jpg/dims/resizef/720X720\n",
      "이미지가 성공적으로 다운로드되었습니다: ./오예스/오예스_15.720X720\n",
      "https://www.thinkfood.co.kr/news/photo/201805/80750_102673_1912.jpg\n",
      "이미지가 성공적으로 다운로드되었습니다: ./오예스/오예스_16.jpg\n",
      "https://image.edaily.co.kr/images/Photo/files/NP/S/2021/11/PS21111500047.jpg\n",
      "이미지가 성공적으로 다운로드되었습니다: ./오예스/오예스_17.jpg\n",
      "https://sitem.ssgcdn.com/61/56/78/item/1000039785661_i1_750.jpg\n",
      "이미지가 성공적으로 다운로드되었습니다: ./오예스/오예스_18.jpg\n",
      "https://thumbnail7.coupangcdn.com/thumbnails/remote/492x492ex/image/retail/images/6600419549129328-dbef5144-20d7-4e6a-9630-00560cf3eb84.jpeg\n",
      "이미지가 성공적으로 다운로드되었습니다: ./오예스/오예스_19.jpeg\n",
      "https://pds.joongang.co.kr/news/component/htmlphoto_mmdata/202005/09/7987a584-aafa-4817-a92a-b2d518a56692.jpg\n",
      "이미지가 성공적으로 다운로드되었습니다: ./오예스/오예스_20.jpg\n",
      "https://thumbnail10.coupangcdn.com/thumbnails/remote/492x492ex/image/retail/images/3823113833195430-200986db-effa-422e-9f48-628394cd328f.jpg\n",
      "이미지가 성공적으로 다운로드되었습니다: ./오예스/오예스_21.jpg\n",
      "https://media.bunjang.co.kr/product/242346342_%7Bcnt%7D_1699543217_w%7Bres%7D.jpg\n",
      "이미지가 성공적으로 다운로드되었습니다: ./오예스/오예스_22.jpg\n",
      "https://image.ajunews.com/content/image/2019/03/13/20190313170424205183.jpg\n",
      "이미지가 성공적으로 다운로드되었습니다: ./오예스/오예스_23.jpg\n",
      "https://haitaimall.co.kr/web/product/big/202108/f00ebdd48adc2e5770bd65ac71aa78cd.jpg\n",
      "이미지가 성공적으로 다운로드되었습니다: ./오예스/오예스_24.jpg\n",
      "https://i.namu.wiki/i/eevhze0zOqp6Mt0jXs5jlU_A_i94S2y6pREUMEJWWEajhM46IJOGXbGIospzN1TRqmV0LLkYn0jaETbxaOxO6A.webp\n",
      "이미지가 성공적으로 다운로드되었습니다: ./오예스/오예스_25.webp\n",
      "https://asset.m-gs.kr/prod/60965432/1/550\n",
      "이미지가 성공적으로 다운로드되었습니다: ./오예스/오예스_26.550\n",
      "https://sitem.ssgcdn.com/59/10/90/item/1000040901059_i1_750.jpg\n",
      "이미지가 성공적으로 다운로드되었습니다: ./오예스/오예스_27.jpg\n",
      "https://gdimg.gmarket.co.kr/3321989841/still/400?ver=1700020513\n",
      "이미지가 성공적으로 다운로드되었습니다: ./오예스/오예스_28.400\n",
      "https://m.sevenstarmall.com/web/product/big/202106/1dee97f3b46b9604502c82fd8a2746b7.jpg\n",
      "이미지가 성공적으로 다운로드되었습니다: ./오예스/오예스_29.jpg\n",
      "https://lh4.googleusercontent.com/proxy/DwjFU0j-CqAWhJ8TaBt-YTGOX0wpfFF6Q_TXOOq0gOzBJhUnSvcsGZerEr8Nf3_RimmULVpsSAe89YR8T5ABeStRnQA8uACEqUU3RSQPeMu-OobC0w\n",
      "이미지가 성공적으로 다운로드되었습니다: ./오예스/오예스_30.DwjFU0j-CqAWhJ8TaBt-YTGOX0wpfFF6Q_TXOOq0gOzBJhUnSvcsGZerEr8Nf3_RimmULVpsSAe89YR8T5ABeStRnQA8uACEqUU3RSQPeMu-OobC0w\n",
      "https://www.highwaymart.co.kr/Data/Upload/Mall/202111/1I4R28DKEA4E9.jpg\n",
      "이미지가 성공적으로 다운로드되었습니다: ./오예스/오예스_31.jpg\n",
      "https://blog.kakaocdn.net/dn/bPHFWc/btqTxCMwshs/5m4KBzsymkPtn3RkBsS8e1/img.webp\n",
      "이미지가 성공적으로 다운로드되었습니다: ./오예스/오예스_32.webp\n",
      "https://www.bravis.com/kr/wp/wp-content/uploads/2017/12/ohyes_main2.jpg\n",
      "이미지가 성공적으로 다운로드되었습니다: ./오예스/오예스_33.jpg\n",
      "https://cloudfront-ap-northeast-1.images.arcpublishing.com/chosunbiz/TLKU57NRCR5WBABUKPCMLEFWYU.jpg\n",
      "이미지가 성공적으로 다운로드되었습니다: ./오예스/오예스_34.jpg\n",
      "https://dimg.donga.com/wps/NEWS/IMAGE/2019/10/22/98010662.1.jpg\n",
      "이미지가 성공적으로 다운로드되었습니다: ./오예스/오예스_35.jpg\n",
      "https://dindin1.cafe24.com/sevenstarmall/maker/haetae/oh-yes-360g_2-2.jpg\n",
      "이미지가 성공적으로 다운로드되었습니다: ./오예스/오예스_36.jpg\n",
      "https://images.emarteveryday.co.kr/images/app/webapps/evd_web2/share/SKU/mall/67/46/8801019314667_1.png\n",
      "이미지가 성공적으로 다운로드되었습니다: ./오예스/오예스_37.png\n",
      "https://i.namu.wiki/i/HYkyLPAviU_nh9cIkqY_waTUYHIr4fuVhZtkNl84QNh_SDnnabMwgWWcV1nz0La97xA7_gfgFvKiK-yVk5M1CA.webp\n",
      "이미지가 성공적으로 다운로드되었습니다: ./오예스/오예스_38.webp\n",
      "https://rjsdk97.cafe24.com/web/product/big/202312/32c5edcfe44707d74a0ed59e160fce2b.png\n",
      "이미지가 성공적으로 다운로드되었습니다: ./오예스/오예스_39.png\n",
      "https://static.megamart.com/product/editor/8801/8801019//_DSC7096-copy.jpg\n",
      "이미지가 성공적으로 다운로드되었습니다: ./오예스/오예스_40.jpg\n",
      "https://image.edaily.co.kr/images/Photo/files/NP/S/2021/06/PS21060100245.jpg\n",
      "이미지가 성공적으로 다운로드되었습니다: ./오예스/오예스_41.jpg\n",
      "https://dliveimg.kbnc.co.kr/shop/upload/main/068/0000000002550321691970815531_main.png\n",
      "이미지가 성공적으로 다운로드되었습니다: ./오예스/오예스_42.png\n",
      "https://moomarket.co.kr/web/product/big/202401/29b62cc4ace22df4498035654f4db867.jpg\n",
      "이미지가 성공적으로 다운로드되었습니다: ./오예스/오예스_43.jpg\n",
      "https://img.danawa.com/prod_img/500000/735/114/img/29114735_1.jpg?_v=20231024111237\n",
      "이미지가 성공적으로 다운로드되었습니다: ./오예스/오예스_44.jpg\n",
      "https://image.fnnews.com/resource/media/image/2007/04/22/200704221637038465_l.jpg\n",
      "이미지가 성공적으로 다운로드되었습니다: ./오예스/오예스_45.jpg\n",
      "https://cdnweb01.wikitree.co.kr/webdata/editor/202401/23/img_20240123104315_f068b146.webp\n",
      "이미지가 성공적으로 다운로드되었습니다: ./오예스/오예스_46.webp\n",
      "https://d2gfz7wkiigkmv.cloudfront.net/pickin/2/1/2/42iB9JXNTn2sMHnSS7jpzw\n",
      "이미지가 성공적으로 다운로드되었습니다: ./오예스/오예스_47.42iB9JXNTn2sMHnSS7jpzw\n",
      "https://image.babosarang.co.kr/product/detail/F4F/2110261142213454/_401.jpg\n",
      "이미지가 성공적으로 다운로드되었습니다: ./오예스/오예스_48.jpg\n",
      "https://www.koreaittimes.com/news/photo/202302/119726_67507_5624.png\n",
      "이미지가 성공적으로 다운로드되었습니다: ./오예스/오예스_49.png\n",
      "https://img.khan.co.kr/news/2023/10/03/news-p.v1.20231003.7ce3029d72e04556ad444d8f2310ff50.jpg\n",
      "이미지가 성공적으로 다운로드되었습니다: ./오예스/오예스_50.jpg\n",
      "https://asset.m-gs.kr/prod/1025893440/1/550\n",
      "이미지가 성공적으로 다운로드되었습니다: ./오예스/오예스_51.550\n",
      "https://gd.image-gmkt.com/%ED%95%B4%ED%83%9C%EC%A0%9C%EA%B3%BC-%ED%95%B4%ED%83%9C-%EC%98%A4%EC%98%88%EC%8A%A4-360GX2%EA%B0%9C-%EC%B4%9D24%EA%B0%9C%EC%9E%85/li/336/624/1756624336.g_350-w-et-pj_g.jpg\n",
      "이미지가 성공적으로 다운로드되었습니다: ./오예스/오예스_52.jpg\n",
      "https://www.bravis.com/kr/wp/wp-content/uploads/2017/12/ohyes_main.jpg\n",
      "이미지가 성공적으로 다운로드되었습니다: ./오예스/오예스_53.jpg\n",
      "https://img.hankyung.com/photo/202211/AKR20221108041400003_01_i_P4.jpg\n",
      "이미지가 성공적으로 다운로드되었습니다: ./오예스/오예스_54.jpg\n",
      "https://thesegye.com/news/data/20240123/p1065585863804951_887_thum.jpg\n",
      "이미지가 성공적으로 다운로드되었습니다: ./오예스/오예스_55.jpg\n",
      "https://sitem.ssgcdn.com/57/08/24/item/1000570240857_i1_750.jpg\n",
      "이미지가 성공적으로 다운로드되었습니다: ./오예스/오예스_56.jpg\n",
      "https://product-image.kurly.com/cdn-cgi/image/fit=crop,width=720,height=936,quality=85/product/image/183a2374-31ba-430d-954b-e19fab73d6c9.jpg\n",
      "이미지가 성공적으로 다운로드되었습니다: ./오예스/오예스_57.jpg\n",
      "https://image.auction.co.kr/itemimage/26/56/dd/2656ddcd86.jpg\n",
      "이미지가 성공적으로 다운로드되었습니다: ./오예스/오예스_58.jpg\n",
      "https://www.foodbank.co.kr/news/photo/201811/55848_12231_1521.jpg\n",
      "이미지가 성공적으로 다운로드되었습니다: ./오예스/오예스_59.jpg\n",
      "https://image.babosarang.co.kr/product/detail/F4F/2110261142213454/_600.jpg\n",
      "이미지가 성공적으로 다운로드되었습니다: ./오예스/오예스_60.jpg\n",
      "https://image.babosarang.co.kr/product/detail/F4F/2110261142213454/_600.jpg\n",
      "이미지가 성공적으로 다운로드되었습니다: ./오예스/오예스_61.jpg\n",
      "https://gdimg.gmarket.co.kr/1877087167/still/400?ver=1654735369\n",
      "이미지가 성공적으로 다운로드되었습니다: ./오예스/오예스_62.400\n",
      "https://img3.yna.co.kr/photo/cms/2020/03/13/31/PCM20200313000031030_P2.jpg\n",
      "Connection Pool 예외 발생: HTTPSConnectionPool(host='img3.yna.co.kr', port=443): Max retries exceeded with url: /photo/cms/2020/03/13/31/PCM20200313000031030_P2.jpg (Caused by SSLError(SSLError(1, '[SSL: UNSAFE_LEGACY_RENEGOTIATION_DISABLED] unsafe legacy renegotiation disabled (_ssl.c:1007)')))\n",
      "https://img.etnews.com/photonews/2202/1504913_20220222094219_940_0001.jpg\n",
      "이미지가 성공적으로 다운로드되었습니다: ./오예스/오예스_64.jpg\n",
      "https://cdn.011st.com/11dims/resize/600x600/quality/75/11src/product/6221340595/B.png?194000000\n",
      "이미지가 성공적으로 다운로드되었습니다: ./오예스/오예스_65.png\n",
      "https://blog.kakaocdn.net/dn/H7CHX/btryF8DyRSR/xiKVwiWsCKuE9aAKSJwkh0/img.jpg\n",
      "이미지가 성공적으로 다운로드되었습니다: ./오예스/오예스_66.jpg\n",
      "https://m.sevenstarmall.com/web/product/big/202203/368678368fe65fdeea7f7d44df852488.jpg\n",
      "이미지가 성공적으로 다운로드되었습니다: ./오예스/오예스_67.jpg\n",
      "https://www.bongbongplanet.com/wp-content/uploads/2024/02/%EC%98%A4%EC%98%88%EC%8A%A4-%EB%A1%9C%EC%8A%A4%ED%8B%B0%EB%93%9C-%EA%B7%B8%EB%A6%B0%ED%8B%B0%EB%9D%BC%EB%96%BC%EB%A7%9B-1.webp\n",
      "이미지가 성공적으로 다운로드되었습니다: ./오예스/오예스_68.webp\n",
      "https://res.heraldm.com/content/image/2022/06/02/20220602000487_0.jpg\n",
      "이미지가 성공적으로 다운로드되었습니다: ./오예스/오예스_69.jpg\n",
      "https://recipe1.ezmember.co.kr/cache/recipe/2017/03/27/2c2182c1493d429e14d059c35a8f43bc1.jpg\n",
      "이미지가 성공적으로 다운로드되었습니다: ./오예스/오예스_70.jpg\n",
      "https://img.danawa.com/prod_img/500000/662/522/img/3522662_1.jpg?_v=20181108111553\n",
      "이미지가 성공적으로 다운로드되었습니다: ./오예스/오예스_71.jpg\n",
      "https://scm.qubridge.com/chattach/20211/1613612951369.jpg\n",
      "이미지가 성공적으로 다운로드되었습니다: ./오예스/오예스_72.jpg\n",
      "https://thumbnail6.coupangcdn.com/thumbnails/remote/492x492ex/image/vendor_inventory/21e3/e3111d546bb1773ec3b28c1084482d22113983a9c4e000138c5bfd461760.jpg\n",
      "이미지가 성공적으로 다운로드되었습니다: ./오예스/오예스_73.jpg\n",
      "https://thumbnail6.coupangcdn.com/thumbnails/remote/492x492ex/image/vendor_inventory/7443/db22f7766bbd74df5a7b9805609ef8c26e9bb9fcad4c9aaf2c58c63585c0.png\n",
      "이미지가 성공적으로 다운로드되었습니다: ./오예스/오예스_74.png\n",
      "https://biz.chosun.com/resizer/DO36hsgBA3e0pzutDngjlwVZhQw=/429x245/smart/cloudfront-ap-northeast-1.images.arcpublishing.com/chosunbiz/62MFHLL7GJKD5BRH7HXDOF4AKU.jpg\n",
      "이미지가 성공적으로 다운로드되었습니다: ./오예스/오예스_75.jpg\n"
     ]
    },
    {
     "ename": "KeyboardInterrupt",
     "evalue": "",
     "output_type": "error",
     "traceback": [
      "\u001b[1;31m---------------------------------------------------------------------------\u001b[0m",
      "\u001b[1;31mKeyboardInterrupt\u001b[0m                         Traceback (most recent call last)",
      "Cell \u001b[1;32mIn[80], line 13\u001b[0m\n\u001b[0;32m     10\u001b[0m next_btn \u001b[38;5;241m=\u001b[39m buttons[\u001b[38;5;241m1\u001b[39m]\n\u001b[0;32m     11\u001b[0m next_btn\u001b[38;5;241m.\u001b[39mclick() \u001b[38;5;66;03m# 다음 이미지 버튼 클릭\u001b[39;00m\n\u001b[1;32m---> 13\u001b[0m \u001b[43mtime\u001b[49m\u001b[38;5;241;43m.\u001b[39;49m\u001b[43msleep\u001b[49m\u001b[43m(\u001b[49m\u001b[38;5;241;43m2\u001b[39;49m\u001b[43m)\u001b[49m\n\u001b[0;32m     15\u001b[0m \u001b[38;5;66;03m# target 이미지 선택\u001b[39;00m\n\u001b[0;32m     16\u001b[0m target_img \u001b[38;5;241m=\u001b[39m driver\u001b[38;5;241m.\u001b[39mfind_elements(By\u001b[38;5;241m.\u001b[39mCSS_SELECTOR, \u001b[38;5;124m\"\u001b[39m\u001b[38;5;124mimg.sFlh5c.pT0Scc.iPVvYb\u001b[39m\u001b[38;5;124m\"\u001b[39m)[\u001b[38;5;241m-\u001b[39m\u001b[38;5;241m1\u001b[39m]\n",
      "\u001b[1;31mKeyboardInterrupt\u001b[0m: "
     ]
    }
   ],
   "source": [
    "# 6-5. 최종 : 다음 이미지 클릭하며, 원본 이미지 저장\n",
    "for count in range(target_count):\n",
    "    try:\n",
    "        # 다음 이미지 버튼 요소 가져오기\n",
    "        next_div = driver.find_elements(By.CSS_SELECTOR, \"div.HJRshd\")\n",
    "        target_div = next_div[-2] \n",
    "\n",
    "        # 다음 이미지 버튼 클릭\n",
    "        buttons = target_div.find_elements(By.TAG_NAME, \"button\")\n",
    "        next_btn = buttons[1]\n",
    "        next_btn.click() # 다음 이미지 버튼 클릭\n",
    "\n",
    "        time.sleep(2)\n",
    "\n",
    "        # target 이미지 선택\n",
    "        target_img = driver.find_elements(By.CSS_SELECTOR, \"img.sFlh5c.pT0Scc.iPVvYb\")[-1]\n",
    "        target_img_link = target_img.get_attribute(\"src\")\n",
    "        print(target_img_link)\n",
    "\n",
    "        # 이미지 데이터를 GET 요청으로 가져오기 - header 정보를 넣어 주는 것이 좋습니다.\n",
    "        headers = {\n",
    "            'User-Agent': 'Mozilla/5.0 (Windows NT 10.0; Win64; x64) AppleWebKit/537.36 (KHTML, like Gecko) Chrome/58.0.3029.110 Safari/537.3'\n",
    "        }\n",
    "        response = requests.get(target_img_link, headers=headers)\n",
    "        # 요청이 성공적인 경우, 이미지를 로컬 파일로 저장\n",
    "        if response.status_code == 200:\n",
    "            # 이미지 확장자 확인 및 쿼리 파라미터 제거를 위한 작업\n",
    "            path = urlparse(target_img_link).path\n",
    "            decoded_path = unquote(path)\n",
    "            file_name = decoded_path.split(\"/\")[-1]\n",
    "            file_ext = file_name.split(\".\")[-1]\n",
    "\n",
    "            if file_ext[0] == 'j' | file_ext[0] == 'p' | file_ext[0] == 'w':\n",
    "                 file_ext = file_ext\n",
    "            else:\n",
    "                 file_ext = \"jpg\"\n",
    "\n",
    "            save_name = f\"{save_dir}{img_name}_{count}.{file_ext}\"\n",
    "            # 바이너리 쓰기 모드로 파일 열기\n",
    "            with open(save_name, 'wb') as file:\n",
    "                file.write(response.content)\n",
    "            print(f\"이미지가 성공적으로 다운로드되었습니다: {save_name}\")\n",
    "        else:\n",
    "            print(f\"{response.status_code}_이미지 다운로드 실패\")\n",
    "        time.sleep(1)\n",
    "\n",
    "    except requests.exceptions.ConnectionError as e:\n",
    "            print(f\"Connection Pool 예외 발생: {e}\")\n",
    "            # 예외 발생 시 잠시 대기하고 다시 시도\n",
    "            time.sleep(5)\n",
    "    except Exception as e:\n",
    "            print(f\"예상치 못한 오류 발생: {e}\")\n",
    "    finally:\n",
    "        time.sleep(1)"
   ]
  },
  {
   "cell_type": "code",
   "execution_count": null,
   "metadata": {},
   "outputs": [],
   "source": []
  }
 ],
 "metadata": {
  "kernelspec": {
   "display_name": "sesac2024",
   "language": "python",
   "name": "python3"
  },
  "language_info": {
   "codemirror_mode": {
    "name": "ipython",
    "version": 3
   },
   "file_extension": ".py",
   "mimetype": "text/x-python",
   "name": "python",
   "nbconvert_exporter": "python",
   "pygments_lexer": "ipython3",
   "version": "3.10.14"
  }
 },
 "nbformat": 4,
 "nbformat_minor": 2
}
