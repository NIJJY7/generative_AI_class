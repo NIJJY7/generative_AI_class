{
 "cells": [
  {
   "cell_type": "code",
   "execution_count": 2,
   "metadata": {},
   "outputs": [
    {
     "name": "stdout",
     "output_type": "stream",
     "text": [
      "Requirement already satisfied: requests in c:\\users\\gf76\\.conda\\envs\\sesac2024\\lib\\site-packages (2.31.0)\n",
      "Requirement already satisfied: charset-normalizer<4,>=2 in c:\\users\\gf76\\.conda\\envs\\sesac2024\\lib\\site-packages (from requests) (3.3.2)\n",
      "Requirement already satisfied: idna<4,>=2.5 in c:\\users\\gf76\\.conda\\envs\\sesac2024\\lib\\site-packages (from requests) (3.6)\n",
      "Requirement already satisfied: urllib3<3,>=1.21.1 in c:\\users\\gf76\\.conda\\envs\\sesac2024\\lib\\site-packages (from requests) (2.2.1)\n",
      "Requirement already satisfied: certifi>=2017.4.17 in c:\\users\\gf76\\.conda\\envs\\sesac2024\\lib\\site-packages (from requests) (2024.2.2)\n"
     ]
    }
   ],
   "source": [
    "!pip install requests"
   ]
  },
  {
   "cell_type": "code",
   "execution_count": 3,
   "metadata": {},
   "outputs": [],
   "source": [
    "import requests \n",
    "import json"
   ]
  },
  {
   "cell_type": "code",
   "execution_count": 4,
   "metadata": {},
   "outputs": [],
   "source": [
    "base_url = \"http://apis.data.go.kr/1360000/TourStnInfoService1\"\n",
    "service_key = \"7/UOo1++vVuIk8kxckkngQ4xVZSFv7OtXXWORxGl2bhYmQaAuewqmJIcNWLlRzO3t7r6+9OmHLXKp1SkiMgB3Q==\"\n",
    "end_point = \"/getTourStnVilageFcst1\"\n"
   ]
  },
  {
   "cell_type": "code",
   "execution_count": 5,
   "metadata": {},
   "outputs": [],
   "source": [
    "params = {\n",
    "    \"ServiceKey\" : service_key,\n",
    "    \"pageNo\" : \"1\",\n",
    "    \"numOfRows\" : \"10\",\n",
    "    \"dataType\" : \"JSON\",\n",
    "    \"CURRENT_DATE\" : \"2018123110\",\n",
    "    \"HOUR\" : \"52\",\n",
    "    \"COURSE_ID\" : \"107\"\n",
    "}"
   ]
  },
  {
   "cell_type": "code",
   "execution_count": 6,
   "metadata": {},
   "outputs": [
    {
     "data": {
      "text/plain": [
       "<Response [200]>"
      ]
     },
     "execution_count": 6,
     "metadata": {},
     "output_type": "execute_result"
    }
   ],
   "source": [
    "## 요청\n",
    "reponse = requests.get(\n",
    "    f\"{base_url}{end_point}\", #주소\n",
    "    params=params, # 파라미터\n",
    "    verify=False\n",
    ")\n",
    "\n",
    "reponse"
   ]
  },
  {
   "cell_type": "code",
   "execution_count": 7,
   "metadata": {},
   "outputs": [
    {
     "data": {
      "text/plain": [
       "dict_keys(['response'])"
      ]
     },
     "execution_count": 7,
     "metadata": {},
     "output_type": "execute_result"
    }
   ],
   "source": [
    "data = reponse.json()\n",
    "data.keys()"
   ]
  },
  {
   "cell_type": "code",
   "execution_count": 8,
   "metadata": {},
   "outputs": [
    {
     "data": {
      "text/plain": [
       "dict_keys(['dataType', 'items', 'pageNo', 'numOfRows', 'totalCount'])"
      ]
     },
     "execution_count": 8,
     "metadata": {},
     "output_type": "execute_result"
    }
   ],
   "source": [
    "data['response'].keys()\n",
    "data['response']['body'].keys()"
   ]
  },
  {
   "cell_type": "code",
   "execution_count": 9,
   "metadata": {},
   "outputs": [
    {
     "data": {
      "text/plain": [
       "{'item': [{'tm': '2019-01-03 12:00',\n",
       "   'thema': '문화/예술',\n",
       "   'courseId': '107',\n",
       "   'courseAreaId': '4600000000',\n",
       "   'courseAreaName': '전라남도',\n",
       "   'courseName': '과거에서 미래우주까지',\n",
       "   'spotAreaId': 10702,\n",
       "   'spotAreaName': '순천',\n",
       "   'spotName': '(순천)순천만자연생태공원',\n",
       "   'th3': 5,\n",
       "   'wd': 337,\n",
       "   'ws': 3,\n",
       "   'sky': 1,\n",
       "   'rhm': 25,\n",
       "   'pop': 0},\n",
       "  {'tm': '2019-01-03 12:00',\n",
       "   'thema': '종교/역사/전통',\n",
       "   'courseId': '107',\n",
       "   'courseAreaId': '4600000000',\n",
       "   'courseAreaName': '전라남도',\n",
       "   'courseName': '과거에서 미래우주까지',\n",
       "   'spotAreaId': 10702,\n",
       "   'spotAreaName': '순천',\n",
       "   'spotName': '(순천)순천만자연생태공원',\n",
       "   'th3': 5,\n",
       "   'wd': 337,\n",
       "   'ws': 3,\n",
       "   'sky': 1,\n",
       "   'rhm': 25,\n",
       "   'pop': 0},\n",
       "  {'tm': '2019-01-03 12:00',\n",
       "   'thema': '체험/학습/산업',\n",
       "   'courseId': '107',\n",
       "   'courseAreaId': '4600000000',\n",
       "   'courseAreaName': '전라남도',\n",
       "   'courseName': '과거에서 미래우주까지',\n",
       "   'spotAreaId': 10702,\n",
       "   'spotAreaName': '순천',\n",
       "   'spotName': '(순천)순천만자연생태공원',\n",
       "   'th3': 5,\n",
       "   'wd': 337,\n",
       "   'ws': 3,\n",
       "   'sky': 1,\n",
       "   'rhm': 25,\n",
       "   'pop': 0},\n",
       "  {'tm': '2019-01-03 12:00',\n",
       "   'thema': '자연/힐링',\n",
       "   'courseId': '107',\n",
       "   'courseAreaId': '4600000000',\n",
       "   'courseAreaName': '전라남도',\n",
       "   'courseName': '과거에서 미래우주까지',\n",
       "   'spotAreaId': 10702,\n",
       "   'spotAreaName': '순천',\n",
       "   'spotName': '(순천)순천만자연생태공원',\n",
       "   'th3': 5,\n",
       "   'wd': 337,\n",
       "   'ws': 3,\n",
       "   'sky': 1,\n",
       "   'rhm': 25,\n",
       "   'pop': 0},\n",
       "  {'tm': '2019-01-03 12:00',\n",
       "   'thema': '문화/예술',\n",
       "   'courseId': '107',\n",
       "   'courseAreaId': '4600000000',\n",
       "   'courseAreaName': '전라남도',\n",
       "   'courseName': '과거에서 미래우주까지',\n",
       "   'spotAreaId': 10704,\n",
       "   'spotAreaName': '고흥',\n",
       "   'spotName': '(고흥)우주과학관/나로우주센터',\n",
       "   'th3': 5,\n",
       "   'wd': 342,\n",
       "   'ws': 8,\n",
       "   'sky': 1,\n",
       "   'rhm': 35,\n",
       "   'pop': 0},\n",
       "  {'tm': '2019-01-03 12:00',\n",
       "   'thema': '자연/힐링',\n",
       "   'courseId': '107',\n",
       "   'courseAreaId': '4600000000',\n",
       "   'courseAreaName': '전라남도',\n",
       "   'courseName': '과거에서 미래우주까지',\n",
       "   'spotAreaId': 10704,\n",
       "   'spotAreaName': '고흥',\n",
       "   'spotName': '(고흥)우주과학관/나로우주센터',\n",
       "   'th3': 5,\n",
       "   'wd': 342,\n",
       "   'ws': 8,\n",
       "   'sky': 1,\n",
       "   'rhm': 35,\n",
       "   'pop': 0},\n",
       "  {'tm': '2019-01-03 12:00',\n",
       "   'thema': '종교/역사/전통',\n",
       "   'courseId': '107',\n",
       "   'courseAreaId': '4600000000',\n",
       "   'courseAreaName': '전라남도',\n",
       "   'courseName': '과거에서 미래우주까지',\n",
       "   'spotAreaId': 10701,\n",
       "   'spotAreaName': '순천',\n",
       "   'spotName': '(순천)드라마세트장',\n",
       "   'th3': 5,\n",
       "   'wd': 337,\n",
       "   'ws': 3,\n",
       "   'sky': 1,\n",
       "   'rhm': 25,\n",
       "   'pop': 0},\n",
       "  {'tm': '2019-01-03 12:00',\n",
       "   'thema': '체험/학습/산업',\n",
       "   'courseId': '107',\n",
       "   'courseAreaId': '4600000000',\n",
       "   'courseAreaName': '전라남도',\n",
       "   'courseName': '과거에서 미래우주까지',\n",
       "   'spotAreaId': 10701,\n",
       "   'spotAreaName': '순천',\n",
       "   'spotName': '(순천)드라마세트장',\n",
       "   'th3': 5,\n",
       "   'wd': 337,\n",
       "   'ws': 3,\n",
       "   'sky': 1,\n",
       "   'rhm': 25,\n",
       "   'pop': 0},\n",
       "  {'tm': '2019-01-03 12:00',\n",
       "   'thema': '자연/힐링',\n",
       "   'courseId': '107',\n",
       "   'courseAreaId': '4600000000',\n",
       "   'courseAreaName': '전라남도',\n",
       "   'courseName': '과거에서 미래우주까지',\n",
       "   'spotAreaId': 10701,\n",
       "   'spotAreaName': '순천',\n",
       "   'spotName': '(순천)드라마세트장',\n",
       "   'th3': 5,\n",
       "   'wd': 337,\n",
       "   'ws': 3,\n",
       "   'sky': 1,\n",
       "   'rhm': 25,\n",
       "   'pop': 0},\n",
       "  {'tm': '2019-01-03 12:00',\n",
       "   'thema': '문화/예술',\n",
       "   'courseId': '107',\n",
       "   'courseAreaId': '4600000000',\n",
       "   'courseAreaName': '전라남도',\n",
       "   'courseName': '과거에서 미래우주까지',\n",
       "   'spotAreaId': 10703,\n",
       "   'spotAreaName': '고흥',\n",
       "   'spotName': '(고흥)국립청소년우주체험센터',\n",
       "   'th3': 5,\n",
       "   'wd': 341,\n",
       "   'ws': 8,\n",
       "   'sky': 1,\n",
       "   'rhm': 35,\n",
       "   'pop': 0}]}"
      ]
     },
     "execution_count": 9,
     "metadata": {},
     "output_type": "execute_result"
    }
   ],
   "source": [
    "data['response']['body']['items']"
   ]
  },
  {
   "cell_type": "code",
   "execution_count": 10,
   "metadata": {},
   "outputs": [],
   "source": [
    "data['response']['body']['items']['item']\n",
    "import pandas as pd\n"
   ]
  }
 ],
 "metadata": {
  "kernelspec": {
   "display_name": "sesac2024",
   "language": "python",
   "name": "python3"
  },
  "language_info": {
   "codemirror_mode": {
    "name": "ipython",
    "version": 3
   },
   "file_extension": ".py",
   "mimetype": "text/x-python",
   "name": "python",
   "nbconvert_exporter": "python",
   "pygments_lexer": "ipython3",
   "version": "3.12.2"
  }
 },
 "nbformat": 4,
 "nbformat_minor": 2
}
